{
 "cells": [
  {
   "cell_type": "code",
   "execution_count": 9,
   "metadata": {},
   "outputs": [
    {
     "name": "stdout",
     "output_type": "stream",
     "text": [
      "[nltk_data] Downloading package punkt to /root/nltk_data...\n",
      "[nltk_data]   Package punkt is already up-to-date!\n",
      "[('the', 1343), ('of', 586), ('to', 491), ('a', 459), ('in', 421), ('and', 342), ('is', 289), ('that', 273), ('we', 247), ('this', 231)]\n"
     ]
    }
   ],
   "source": [
    "import nltk\n",
    "nltk.download('punkt')\n",
    "\n",
    "import string\n",
    "from collections import Counter\n",
    "\n",
    "def get_text():    \n",
    "\twith open('FirstContactWithTensorFlow.txt', 'r') as tf:        \n",
    "\t\treturn tf.read()\n",
    "    \n",
    "def get_tokens(text):    \n",
    "\treturn nltk.word_tokenize(text)\n",
    "\n",
    "text = get_text()\n",
    "tokens_with_punctuation = get_tokens(text)\n",
    "# Task 2.3 Las 10 palabras más comunes\n",
    "count_with_punctuation = Counter(tokens_with_punctuation)\n",
    "#print(count_with_punctuation.most_common(10))\n",
    "# Task 2.4 Todas las palabras#\n",
    "#print(count_with_punctuation.most_common())\n",
    "# Task 2.5 Eliminar los signos de puntuación\n",
    "text_no_punctuation = text.translate(str.maketrans('','',string.punctuation))\n",
    "tokens_no_punctuation = nltk.word_tokenize(text_no_punctuation)\n",
    "count_no_punctuation = Counter(tokens_no_punctuation)\n",
    "\n",
    "print(count_no_punctuation.most_common(10))\n",
    "\n",
    "\n",
    "\n"
   ]
  },
  {
   "cell_type": "code",
   "execution_count": null,
   "metadata": {},
   "outputs": [],
   "source": []
  },
  {
   "cell_type": "code",
   "execution_count": null,
   "metadata": {},
   "outputs": [],
   "source": []
  }
 ],
 "metadata": {
  "kernelspec": {
   "display_name": "Python 3",
   "language": "python",
   "name": "python3"
  },
  "language_info": {
   "codemirror_mode": {
    "name": "ipython",
    "version": 3
   },
   "file_extension": ".py",
   "mimetype": "text/x-python",
   "name": "python",
   "nbconvert_exporter": "python",
   "pygments_lexer": "ipython3",
   "version": "3.5.2"
  }
 },
 "nbformat": 4,
 "nbformat_minor": 2
}
